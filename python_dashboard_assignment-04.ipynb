{
 "cells": [
  {
   "cell_type": "markdown",
   "id": "7ef789bc",
   "metadata": {},
   "source": [
    "# PYTHON DASHBOARD ASSIGNMENT-04\n"
   ]
  },
  {
   "cell_type": "markdown",
   "id": "e6a757f2",
   "metadata": {},
   "source": [
    "**DATE :-28/11/22**"
   ]
  },
  {
   "cell_type": "markdown",
   "id": "cbfd74a9",
   "metadata": {},
   "source": [
    "1. what exactly is [] ?"
   ]
  },
  {
   "cell_type": "markdown",
   "id": "16a6b8c3",
   "metadata": {},
   "source": [
    "* [] is empty list which do not contains any items "
   ]
  },
  {
   "cell_type": "markdown",
   "id": "cca726a5",
   "metadata": {},
   "source": [
    "2. In a list of values stored in a variable called spam, how would you assign the value &#39;hello&#39; as the\n",
    "third value? (Assume [2, 4, 6, 8, 10] are in spam.)"
   ]
  },
  {
   "cell_type": "code",
   "execution_count": 1,
   "id": "8d9b528c",
   "metadata": {},
   "outputs": [
    {
     "name": "stdout",
     "output_type": "stream",
     "text": [
      "[2, 4, 'hello', 6, 8, 10]\n"
     ]
    }
   ],
   "source": [
    "spam = [2,4,6,8,10]\n",
    "spam.insert(2,\"hello\")\n",
    "print(spam)"
   ]
  },
  {
   "cell_type": "markdown",
   "id": "7a55056b",
   "metadata": {},
   "source": [
    "spam=['a','b','c','d'].This is acts as list for next 3 queations"
   ]
  },
  {
   "cell_type": "markdown",
   "id": "3315f0fa",
   "metadata": {},
   "source": [
    "3.what is the value of spam[int(int('3'*2)/11)]? spam=['a','b','c','d']"
   ]
  },
  {
   "cell_type": "code",
   "execution_count": 2,
   "id": "391b0256",
   "metadata": {},
   "outputs": [
    {
     "data": {
      "text/plain": [
       "'d'"
      ]
     },
     "execution_count": 2,
     "metadata": {},
     "output_type": "execute_result"
    }
   ],
   "source": [
    "spam=['a','b','c','d']\n",
    "spam[int(int('3'*2)/11)]"
   ]
  },
  {
   "cell_type": "markdown",
   "id": "cd327234",
   "metadata": {},
   "source": [
    "4.what is the value of spam[-1] ?"
   ]
  },
  {
   "cell_type": "code",
   "execution_count": 4,
   "id": "8003d1b1",
   "metadata": {},
   "outputs": [
    {
     "data": {
      "text/plain": [
       "'d'"
      ]
     },
     "execution_count": 4,
     "metadata": {},
     "output_type": "execute_result"
    }
   ],
   "source": [
    "spam=['a','b','c','d']\n",
    "spam[-1]"
   ]
  },
  {
   "cell_type": "markdown",
   "id": "4ef61af2",
   "metadata": {},
   "source": [
    "5.what is value of spam[:2] ?"
   ]
  },
  {
   "cell_type": "code",
   "execution_count": 5,
   "id": "a7d7e0c4",
   "metadata": {},
   "outputs": [
    {
     "data": {
      "text/plain": [
       "['a', 'b']"
      ]
     },
     "execution_count": 5,
     "metadata": {},
     "output_type": "execute_result"
    }
   ],
   "source": [
    "spam=['a','b','c','d']\n",
    "spam[:2]"
   ]
  },
  {
   "cell_type": "markdown",
   "id": "d4cf671e",
   "metadata": {},
   "source": [
    "bacon=[3.14,'cat',11,'cat',True].This is acts as list for next 3 questions."
   ]
  },
  {
   "cell_type": "markdown",
   "id": "7bd83674",
   "metadata": {},
   "source": [
    "6.what is the value of bacon.index('cat')?"
   ]
  },
  {
   "cell_type": "code",
   "execution_count": 6,
   "id": "02f89961",
   "metadata": {},
   "outputs": [
    {
     "data": {
      "text/plain": [
       "1"
      ]
     },
     "execution_count": 6,
     "metadata": {},
     "output_type": "execute_result"
    }
   ],
   "source": [
    "bacon = bacon=[3.14,'cat',11,'cat',True]\n",
    "bacon.index('cat')"
   ]
  },
  {
   "cell_type": "markdown",
   "id": "d7165861",
   "metadata": {},
   "source": [
    "7.How does bacon.append(99) change the look of the value in bacon ?"
   ]
  },
  {
   "cell_type": "code",
   "execution_count": 7,
   "id": "331f06b9",
   "metadata": {},
   "outputs": [
    {
     "data": {
      "text/plain": [
       "[3.14, 'cat', 11, 'cat', True, 99]"
      ]
     },
     "execution_count": 7,
     "metadata": {},
     "output_type": "execute_result"
    }
   ],
   "source": [
    "bacon = bacon=[3.14,'cat',11,'cat',True]\n",
    "bacon.append(99)\n",
    "bacon"
   ]
  },
  {
   "cell_type": "markdown",
   "id": "a13741de",
   "metadata": {},
   "source": [
    "8.How does bacon.remove('cat') change the look of the list in bacon ?"
   ]
  },
  {
   "cell_type": "code",
   "execution_count": 8,
   "id": "3aeb2db9",
   "metadata": {},
   "outputs": [
    {
     "data": {
      "text/plain": [
       "[3.14, 11, 'cat', True]"
      ]
     },
     "execution_count": 8,
     "metadata": {},
     "output_type": "execute_result"
    }
   ],
   "source": [
    "bacon = bacon=[3.14,'cat',11,'cat',True]\n",
    "bacon.remove('cat')\n",
    "bacon"
   ]
  },
  {
   "cell_type": "markdown",
   "id": "d7ae4282",
   "metadata": {},
   "source": [
    "9. What are the list concatenation and list replication operators?"
   ]
  },
  {
   "cell_type": "markdown",
   "id": "ae0ca8b4",
   "metadata": {},
   "source": [
    "* list concatenation operator is ' + '\n",
    "* list concatenation operator is ' * '"
   ]
  },
  {
   "cell_type": "markdown",
   "id": "628086b5",
   "metadata": {},
   "source": [
    "10.What is difference between the list methods append() and insert()?"
   ]
  },
  {
   "cell_type": "markdown",
   "id": "3541bb64",
   "metadata": {},
   "source": [
    "* append() : The append() function adds the value at the end of the list"
   ]
  },
  {
   "cell_type": "code",
   "execution_count": 12,
   "id": "34c82a0b",
   "metadata": {},
   "outputs": [
    {
     "data": {
      "text/plain": [
       "[1, 2, 3, 4]"
      ]
     },
     "execution_count": 12,
     "metadata": {},
     "output_type": "execute_result"
    }
   ],
   "source": [
    "# Example\n",
    "list = [1 , 2 , 3]\n",
    "list.append(4)\n",
    "list"
   ]
  },
  {
   "cell_type": "markdown",
   "id": "6c696cce",
   "metadata": {},
   "source": [
    "* insert(): The insert() function adds the values at the specific position of the list"
   ]
  },
  {
   "cell_type": "code",
   "execution_count": 13,
   "id": "b6b78fd7",
   "metadata": {},
   "outputs": [
    {
     "data": {
      "text/plain": [
       "['sudha', 'ineuron', 'sunny']"
      ]
     },
     "execution_count": 13,
     "metadata": {},
     "output_type": "execute_result"
    }
   ],
   "source": [
    "# Example\n",
    "list = ['ineuron','sunny']\n",
    "list.insert(0,'sudha')\n",
    "list"
   ]
  },
  {
   "cell_type": "markdown",
   "id": "d565167c",
   "metadata": {},
   "source": [
    "11.What are the two methods for removing items from a list?"
   ]
  },
  {
   "cell_type": "markdown",
   "id": "d67c5fd6",
   "metadata": {},
   "source": [
    "* Method-1 => remove()\n",
    "* SYNTAX : list_name.remove(element)"
   ]
  },
  {
   "cell_type": "code",
   "execution_count": 15,
   "id": "c9a8323b",
   "metadata": {},
   "outputs": [
    {
     "data": {
      "text/plain": [
       "[1, 2, 4, 5]"
      ]
     },
     "execution_count": 15,
     "metadata": {},
     "output_type": "execute_result"
    }
   ],
   "source": [
    "# Ex:\n",
    "list = [1,2,3,4,5]\n",
    "list.remove(3)\n",
    "list"
   ]
  },
  {
   "cell_type": "markdown",
   "id": "86dd8982",
   "metadata": {},
   "source": [
    "* Method-2 =>pop()\n",
    "* SYNTAX :list_name.pop()"
   ]
  },
  {
   "cell_type": "code",
   "execution_count": 16,
   "id": "7491b524",
   "metadata": {},
   "outputs": [
    {
     "data": {
      "text/plain": [
       "[1, 2, 3, 4]"
      ]
     },
     "execution_count": 16,
     "metadata": {},
     "output_type": "execute_result"
    }
   ],
   "source": [
    "# Ex:\n",
    "list = [1,2,3,4,5]\n",
    "list.pop()\n",
    "list"
   ]
  },
  {
   "cell_type": "markdown",
   "id": "77772e78",
   "metadata": {},
   "source": [
    "12.Describe how list values and string values are identical."
   ]
  },
  {
   "cell_type": "markdown",
   "id": "90f3979a",
   "metadata": {},
   "source": [
    "* Both lists and strings can be passed to len() function, have indexes and slices, be used in for loops, be concatenated or replicated, and be used with the in and not in operators."
   ]
  },
  {
   "cell_type": "markdown",
   "id": "5295fed4",
   "metadata": {},
   "source": [
    "13.What's the difference between tuples and lists?"
   ]
  },
  {
   "cell_type": "markdown",
   "id": "bbcafa15",
   "metadata": {},
   "source": [
    "*  Lists are Mutable, Indexable and Slicable. they can have values added, removed, or changed. Tuples are Immutable but Indexable and Slicable. the tuple values cannot be changed at all. Also, tuples are represented using parentheses, (), while lists use the square brackets, []."
   ]
  },
  {
   "cell_type": "markdown",
   "id": "b06aaa03",
   "metadata": {},
   "source": [
    "14.How do you type a tuple value that only contains the integer 42?"
   ]
  },
  {
   "cell_type": "code",
   "execution_count": 21,
   "id": "dc6e5b6b",
   "metadata": {},
   "outputs": [
    {
     "name": "stdout",
     "output_type": "stream",
     "text": [
      "42\n"
     ]
    }
   ],
   "source": [
    "tuple = (42)\n",
    "print(tuple)"
   ]
  },
  {
   "cell_type": "markdown",
   "id": "59f48290",
   "metadata": {},
   "source": [
    "15.How do you get a list value's tuple form? How do you get a tuple value's list form?"
   ]
  },
  {
   "cell_type": "markdown",
   "id": "6e669ebf",
   "metadata": {},
   "source": [
    "* To get list value's in tuple form we have to use tuple() function\n",
    "\n",
    "* To get tuple value's in list form we have to use list() function"
   ]
  },
  {
   "cell_type": "markdown",
   "id": "ac70550c",
   "metadata": {},
   "source": [
    "16. Variables that \"contain\" list values are not necessarily lists themselves. Instead, what do they contain?"
   ]
  },
  {
   "cell_type": "markdown",
   "id": "d29e829e",
   "metadata": {},
   "source": [
    "* They contain references to list values."
   ]
  },
  {
   "cell_type": "markdown",
   "id": "37718297",
   "metadata": {},
   "source": [
    "17.How do you distinguish between copy.copy() and copy.deepcopy()?"
   ]
  },
  {
   "cell_type": "markdown",
   "id": "f5258c7f",
   "metadata": {},
   "source": [
    "* The copy.copy() function will do a shallow copy of a list, while the copy.deepcopy() function will do a deep copy of a list. That is, only copy.deepcopy() will duplicate any lists inside the list."
   ]
  },
  {
   "cell_type": "code",
   "execution_count": null,
   "id": "e0a20e46",
   "metadata": {},
   "outputs": [],
   "source": []
  }
 ],
 "metadata": {
  "kernelspec": {
   "display_name": "Python 3 (ipykernel)",
   "language": "python",
   "name": "python3"
  },
  "language_info": {
   "codemirror_mode": {
    "name": "ipython",
    "version": 3
   },
   "file_extension": ".py",
   "mimetype": "text/x-python",
   "name": "python",
   "nbconvert_exporter": "python",
   "pygments_lexer": "ipython3",
   "version": "3.9.13"
  }
 },
 "nbformat": 4,
 "nbformat_minor": 5
}
