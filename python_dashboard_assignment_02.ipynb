{
 "cells": [
  {
   "cell_type": "markdown",
   "id": "dfa1ab3b",
   "metadata": {},
   "source": [
    "# PYTHON DASHBOARD ASSIGNMENT-02\n",
    "DATE:28-10-2022"
   ]
  },
  {
   "cell_type": "markdown",
   "id": "5ce3ff79",
   "metadata": {},
   "source": [
    "1. What are the two values of the Boolean data type? How do you write them?"
   ]
  },
  {
   "cell_type": "markdown",
   "id": "0ccbe490",
   "metadata": {},
   "source": [
    " Two values of boolean data types are\n",
    "\n",
    "   i) True                 ii) False\n",
    "   \n",
    "   using capital T and capital F"
   ]
  },
  {
   "cell_type": "code",
   "execution_count": 21,
   "id": "e3d3b0e5",
   "metadata": {},
   "outputs": [
    {
     "name": "stdout",
     "output_type": "stream",
     "text": [
      "True False\n"
     ]
    }
   ],
   "source": [
    "#EXAMPLE\n",
    "A=True\n",
    "B=False\n",
    "print(A , B)"
   ]
  },
  {
   "cell_type": "markdown",
   "id": "711ce165",
   "metadata": {},
   "source": [
    "2. What are the three different types of Boolean operators?"
   ]
  },
  {
   "cell_type": "markdown",
   "id": "ced0518e",
   "metadata": {},
   "source": [
    "Three different types of boolean operators are\n",
    "\n",
    "   i)and       ii)or      iii)not"
   ]
  },
  {
   "cell_type": "markdown",
   "id": "216694fa",
   "metadata": {},
   "source": [
    "3. Make a list of each Boolean operator&#39;s truth tables (i.e. every possible combination of Boolean\n",
    "values for the operator and what it evaluate )."
   ]
  },
  {
   "cell_type": "markdown",
   "id": "a9a31287",
   "metadata": {},
   "source": [
    " Truth table of boolean operators\n",
    " \n",
    "    i) truth table of 'and' operator\n",
    "       \n",
    "       A   B   A and B\n",
    "    \n",
    "       0   0      0\n",
    "        \n",
    "       0   1      0\n",
    "    \n",
    "       1   0      0\n",
    "        \n",
    "       1   1      1\n",
    "       \n",
    "   -------------------------------------\n",
    "   \n",
    "    ii) truth table of 'or' operator\n",
    "    \n",
    "        A   B    A or B\n",
    "        \n",
    "        0   0      0\n",
    "        \n",
    "        0   1      1\n",
    "         \n",
    "        1   0      1\n",
    "        \n",
    "        1   1      1\n",
    "        \n",
    "   ------------------------------------\n",
    "   \n",
    "    iii) truth table of 'not' operator\n",
    "    \n",
    "         A   not A\n",
    "         \n",
    "         0     1\n",
    "         \n",
    "         1     0"
   ]
  },
  {
   "cell_type": "markdown",
   "id": "2fe8942c",
   "metadata": {},
   "source": [
    "4. What are the values of the following expressions?\n",
    "\n",
    "(5 > 4) and (3 == 5)\n",
    "\n",
    "not (5 > 4)\n",
    "\n",
    "(5 > 4) or (3 == 5)\n",
    "\n",
    "not ((5 > 4) or (3 == 5))\n",
    "\n",
    "(True and True) and (True == False)\n",
    "\n",
    "(not False) or (not True)"
   ]
  },
  {
   "cell_type": "code",
   "execution_count": 2,
   "id": "56bd695b",
   "metadata": {},
   "outputs": [
    {
     "name": "stdout",
     "output_type": "stream",
     "text": [
      "False\n"
     ]
    }
   ],
   "source": [
    "#1.\n",
    "a = (5 > 4) and (3 == 5)\n",
    "print(a)"
   ]
  },
  {
   "cell_type": "code",
   "execution_count": 4,
   "id": "64984ee7",
   "metadata": {},
   "outputs": [
    {
     "name": "stdout",
     "output_type": "stream",
     "text": [
      "False\n"
     ]
    }
   ],
   "source": [
    "#2.\n",
    "b = not (5 > 4)\n",
    "print(b)"
   ]
  },
  {
   "cell_type": "code",
   "execution_count": 5,
   "id": "c6478bc6",
   "metadata": {},
   "outputs": [
    {
     "name": "stdout",
     "output_type": "stream",
     "text": [
      "True\n"
     ]
    }
   ],
   "source": [
    "#3.\n",
    "c = (5 > 4) or (3 == 5)\n",
    "print(c)"
   ]
  },
  {
   "cell_type": "code",
   "execution_count": 6,
   "id": "c390808b",
   "metadata": {},
   "outputs": [
    {
     "name": "stdout",
     "output_type": "stream",
     "text": [
      "False\n"
     ]
    }
   ],
   "source": [
    "#4.\n",
    "d = not ((5 > 4) or (3 == 5))\n",
    "print(d)"
   ]
  },
  {
   "cell_type": "code",
   "execution_count": 7,
   "id": "b9dabaf3",
   "metadata": {},
   "outputs": [
    {
     "name": "stdout",
     "output_type": "stream",
     "text": [
      "False\n"
     ]
    }
   ],
   "source": [
    "#5.\n",
    "f = (True and True) and (True == False)\n",
    "print(f)"
   ]
  },
  {
   "cell_type": "code",
   "execution_count": 8,
   "id": "801e9e77",
   "metadata": {},
   "outputs": [
    {
     "name": "stdout",
     "output_type": "stream",
     "text": [
      "True\n"
     ]
    }
   ],
   "source": [
    "#6.\n",
    "g =(not False) or (not True)\n",
    "print(g)"
   ]
  },
  {
   "cell_type": "markdown",
   "id": "9b806ccb",
   "metadata": {},
   "source": [
    "5. What are the six comparison operators?"
   ]
  },
  {
   "cell_type": "markdown",
   "id": "3477d16f",
   "metadata": {},
   "source": [
    "  comparison operators \n",
    "\n",
    "  i) <  :-  less than\n",
    "        \n",
    "  ii) <=  :-  less than or equal to\n",
    "    \n",
    "  iii) >  :-  grater than\n",
    "    \n",
    "  iv) >=  :-  grater than or equal to\n",
    "    \n",
    "   v) ==  :-  equal to \n",
    "    \n",
    "  vi) !=  :-  not equal to"
   ]
  },
  {
   "cell_type": "markdown",
   "id": "1fce29cf",
   "metadata": {},
   "source": [
    "6. How do you tell the difference between the equal to and assignment operators?Describe a\n",
    "condition and when you would use one."
   ]
  },
  {
   "cell_type": "markdown",
   "id": "710716f1",
   "metadata": {},
   "source": [
    "  Difference between =(assignment) and ==(equal to) operator \n",
    "   \n",
    "   The \"=\" is an assignment operator is used to assign the value to the variable.\n",
    "   The \"==\" operator checks whether the two given operands are equal or not\n",
    "   "
   ]
  },
  {
   "cell_type": "code",
   "execution_count": 22,
   "id": "f095b121",
   "metadata": {},
   "outputs": [
    {
     "name": "stdout",
     "output_type": "stream",
     "text": [
      "10 20\n"
     ]
    }
   ],
   "source": [
    "#Example of assignment(=) operator \n",
    "   \n",
    "a = 10\n",
    "b = 20\n",
    "print(a,b)"
   ]
  },
  {
   "cell_type": "code",
   "execution_count": 24,
   "id": "9a97a997",
   "metadata": {},
   "outputs": [
    {
     "name": "stdout",
     "output_type": "stream",
     "text": [
      "hello\n"
     ]
    }
   ],
   "source": [
    "#Example of equal to(==) operator \n",
    "\n",
    "if True==True:\n",
    "    print(\"hello\")"
   ]
  },
  {
   "cell_type": "markdown",
   "id": "f40b87a0",
   "metadata": {},
   "source": [
    "7. Identify the three blocks in this code:\n",
    "spam = 0\n",
    "\n",
    "if spam == 10:\n",
    "\n",
    "print('eggs')\n",
    "\n",
    "if > 5:\n",
    "\n",
    "print('bacon')\n",
    "\n",
    "else:\n",
    "\n",
    "print('ham')\n",
    "\n",
    "print('spam')\n",
    "\n",
    "print('spam')"
   ]
  },
  {
   "cell_type": "markdown",
   "id": "e8b1f375",
   "metadata": {},
   "source": [
    "  Blocks are\n",
    "\n",
    "   ham\n",
    "   \n",
    "   spam\n",
    "   \n",
    "   spam"
   ]
  },
  {
   "cell_type": "markdown",
   "id": "649e6938",
   "metadata": {},
   "source": [
    "8.Write code that prints Hello if 1 is stored in spam, prints Howdy if 2 is stored in spam, and prints\n",
    "Greetings! if anything else is stored in spam."
   ]
  },
  {
   "cell_type": "code",
   "execution_count": 1,
   "id": "199c59a7",
   "metadata": {},
   "outputs": [
    {
     "name": "stdout",
     "output_type": "stream",
     "text": [
      "Enter number : 1\n",
      "Hello\n"
     ]
    }
   ],
   "source": [
    "spam=int(input(\"Enter number : \"))\n",
    "if spam==1:\n",
    "    print(\"Hello\")\n",
    "elif spam==2:\n",
    "    print(\"Howdy\")\n",
    "else:\n",
    "    print(\"Greetings!\")"
   ]
  },
  {
   "cell_type": "markdown",
   "id": "ef0bb94b",
   "metadata": {},
   "source": [
    "9.If your programme is stuck in an endless loop, what keys you’ll press?"
   ]
  },
  {
   "cell_type": "markdown",
   "id": "226c0e26",
   "metadata": {},
   "source": [
    "  if our program is struck in endless loop the we have to press 'CTRL +C' ."
   ]
  },
  {
   "cell_type": "markdown",
   "id": "dc9f4e6a",
   "metadata": {},
   "source": [
    "10. How can you tell the difference between break and continue?"
   ]
  },
  {
   "cell_type": "markdown",
   "id": "971d0590",
   "metadata": {},
   "source": [
    "   Difference between 'break' and 'continue' statements\n",
    "\n",
    "    The 'break' statement terminates the whole iteration of the loop whereas 'continue' skips the current iteration and go to the next iteration"
   ]
  },
  {
   "cell_type": "code",
   "execution_count": 10,
   "id": "5b3cafea",
   "metadata": {},
   "outputs": [
    {
     "name": "stdout",
     "output_type": "stream",
     "text": [
      "1\n",
      "2\n",
      "3\n",
      "4\n"
     ]
    }
   ],
   "source": [
    "#example of break statment\n",
    "for i in range(1,10):\n",
    "    if i==5:\n",
    "        break\n",
    "    print(i)"
   ]
  },
  {
   "cell_type": "code",
   "execution_count": 11,
   "id": "74ae79b2",
   "metadata": {},
   "outputs": [
    {
     "name": "stdout",
     "output_type": "stream",
     "text": [
      "1\n",
      "2\n",
      "3\n",
      "4\n",
      "6\n",
      "7\n",
      "8\n",
      "9\n"
     ]
    }
   ],
   "source": [
    "#example of break statment\n",
    "for i in range(1,10):\n",
    "    if i==5:\n",
    "        continue\n",
    "    print(i)\n",
    "    "
   ]
  },
  {
   "cell_type": "markdown",
   "id": "c8c905f8",
   "metadata": {},
   "source": [
    "11. In a for loop, what is the difference between range(10), range(0, 10), and range(0, 10, 1)?"
   ]
  },
  {
   "cell_type": "code",
   "execution_count": 13,
   "id": "3b01b753",
   "metadata": {},
   "outputs": [
    {
     "name": "stdout",
     "output_type": "stream",
     "text": [
      "0\n",
      "1\n",
      "2\n",
      "3\n",
      "4\n",
      "5\n",
      "6\n",
      "7\n",
      "8\n",
      "9\n",
      "------------------------\n",
      "0\n",
      "1\n",
      "2\n",
      "3\n",
      "4\n",
      "5\n",
      "6\n",
      "7\n",
      "8\n",
      "9\n",
      "------------------------\n",
      "0\n",
      "1\n",
      "2\n",
      "3\n",
      "4\n",
      "5\n",
      "6\n",
      "7\n",
      "8\n",
      "9\n"
     ]
    }
   ],
   "source": [
    "for i in range(10):\n",
    "    print(i)\n",
    "print(\"------------------------\")\n",
    "for i in range(0,10):\n",
    "    print(i)\n",
    "print(\"------------------------\")\n",
    "for i in range(0,10,1):\n",
    "    print(i)"
   ]
  },
  {
   "cell_type": "markdown",
   "id": "08d1e160",
   "metadata": {},
   "source": [
    "from the above output we can conclude that thay all do the same thing.The range(10) call ranges from 0 up to (but not including) 10, range(0,10) tells the loop to start at 0, and range(0,10,1) tells the loop to increase the variabl by 1 non each iteration."
   ]
  },
  {
   "cell_type": "markdown",
   "id": "08f0432b",
   "metadata": {},
   "source": [
    "12. Write a short program that prints the numbers 1 to 10 using a for loop. Then write an equivalent\n",
    "program that prints the numbers 1 to 10 using a while loop."
   ]
  },
  {
   "cell_type": "code",
   "execution_count": 16,
   "id": "c043136c",
   "metadata": {},
   "outputs": [
    {
     "name": "stdout",
     "output_type": "stream",
     "text": [
      "print the numbers from 1-10 using for loop\n",
      "1\n",
      "2\n",
      "3\n",
      "4\n",
      "5\n",
      "6\n",
      "7\n",
      "8\n",
      "9\n",
      "10\n",
      "-----------------------\n",
      "print the numbers from 1-10 using while loop\n",
      "0\n",
      "1\n",
      "2\n",
      "3\n",
      "4\n",
      "5\n",
      "6\n",
      "7\n",
      "8\n",
      "9\n",
      "10\n"
     ]
    }
   ],
   "source": [
    "#print the numbers from 1-10 using for loop\n",
    "print(\"print the numbers from 1-10 using for loop\")\n",
    "for i in range (1,11):\n",
    "    print(i)\n",
    "print(\"-----------------------\")\n",
    "\n",
    "#print the numbers from 1-10 using while loop\n",
    "print(\"print the numbers from 1-10 using while loop\")\n",
    "i=0\n",
    "while i<=10:\n",
    "    print(i)\n",
    "    i=i+1"
   ]
  },
  {
   "cell_type": "markdown",
   "id": "b671a430",
   "metadata": {},
   "source": [
    "13. If you had a function named bacon() inside a module named spam, how would you call it after\n",
    "importing spam?"
   ]
  },
  {
   "cell_type": "markdown",
   "id": "2141d9d9",
   "metadata": {},
   "source": [
    "This function can be called with spam.bacon()"
   ]
  }
 ],
 "metadata": {
  "kernelspec": {
   "display_name": "Python 3 (ipykernel)",
   "language": "python",
   "name": "python3"
  },
  "language_info": {
   "codemirror_mode": {
    "name": "ipython",
    "version": 3
   },
   "file_extension": ".py",
   "mimetype": "text/x-python",
   "name": "python",
   "nbconvert_exporter": "python",
   "pygments_lexer": "ipython3",
   "version": "3.9.13"
  }
 },
 "nbformat": 4,
 "nbformat_minor": 5
}
