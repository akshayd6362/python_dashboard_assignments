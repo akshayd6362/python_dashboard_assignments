{
 "cells": [
  {
   "cell_type": "markdown",
   "id": "5299d13f",
   "metadata": {},
   "source": [
    "# PYTHON_DASHBOARD_ASSIGNMENT-03                      \n",
    "# DATE :- 09/11/22"
   ]
  },
  {
   "cell_type": "markdown",
   "id": "364ec855",
   "metadata": {},
   "source": [
    "1. Why are functions advantageous to have in your programs?"
   ]
  },
  {
   "cell_type": "markdown",
   "id": "48f6a54f",
   "metadata": {},
   "source": [
    "**ADVANTAGES OF FUNCTIONS**"
   ]
  },
  {
   "cell_type": "markdown",
   "id": "e1b85dcf",
   "metadata": {},
   "source": [
    "* functions are be reusable\n",
    "* functions reduces the complexicity of the code\n",
    "* functions breakdown the big programs into smaller parts\n",
    "* functions reduces the need for duplicate code"
   ]
  },
  {
   "cell_type": "markdown",
   "id": "aa1c5b0c",
   "metadata": {},
   "source": [
    "2. When does the code in a function run: when it's specified or when it's called?"
   ]
  },
  {
   "cell_type": "markdown",
   "id": "82ed13cd",
   "metadata": {},
   "source": [
    "* The code in a function executes when the function is called"
   ]
  },
  {
   "cell_type": "markdown",
   "id": "e4f754b1",
   "metadata": {},
   "source": [
    "3. What statement creates a function?"
   ]
  },
  {
   "cell_type": "markdown",
   "id": "7dc81330",
   "metadata": {},
   "source": [
    "* The def statement creates a function\n",
    "\n",
    "    **Syntax**\n",
    "    \n",
    "def function_name(parameters):\n",
    "\n",
    "  \"\"\"dock string\"\"\"\n",
    "  \n",
    "    function body\n",
    "    \n",
    "  return value"
   ]
  },
  {
   "cell_type": "markdown",
   "id": "d5a4d02b",
   "metadata": {},
   "source": [
    "4. What is the difference between a function and a function call?"
   ]
  },
  {
   "cell_type": "markdown",
   "id": "1fa0453b",
   "metadata": {},
   "source": [
    "**function**\n",
    "\n",
    "* A function is set of code that does a perticular operation and returns the result\n",
    "\n",
    "**function call**\n",
    "\n",
    "* A function call is the code used to pass control to a function"
   ]
  },
  {
   "cell_type": "markdown",
   "id": "df7a3eeb",
   "metadata": {},
   "source": [
    "5. How many global scopes are there in a Python program? How many local scopes?"
   ]
  },
  {
   "cell_type": "markdown",
   "id": "ec305609",
   "metadata": {},
   "source": [
    "* There is one global scope, and a local scope is created whenever a function is called."
   ]
  },
  {
   "cell_type": "markdown",
   "id": "8afa9f12",
   "metadata": {},
   "source": [
    "6. What happens to variables in a local scope when the function call returns?"
   ]
  },
  {
   "cell_type": "markdown",
   "id": "b869ae2e",
   "metadata": {},
   "source": [
    "* When a function returns, the local scope is destroyed, and all the variables in it are forgotten."
   ]
  },
  {
   "cell_type": "markdown",
   "id": "630e5fd5",
   "metadata": {},
   "source": [
    "7. What is the concept of a return value? Is it possible to have a return value in an expression?"
   ]
  },
  {
   "cell_type": "markdown",
   "id": "7e40d94a",
   "metadata": {},
   "source": [
    "* A return is value that a function returns to the calling function when it completes its task.\n",
    "\n",
    "*  Like any value, a return value can be used as part of an expression."
   ]
  },
  {
   "cell_type": "markdown",
   "id": "ab9c4b6f",
   "metadata": {},
   "source": [
    "8. If a function does not have a return statement, what is the return value of a call to that function?"
   ]
  },
  {
   "cell_type": "markdown",
   "id": "b6c521c4",
   "metadata": {},
   "source": [
    "* If there is no return statement for a function, its return value is None"
   ]
  },
  {
   "cell_type": "markdown",
   "id": "88c5cd82",
   "metadata": {},
   "source": [
    "9. How do you make a function variable refer to the global variable?"
   ]
  },
  {
   "cell_type": "markdown",
   "id": "67a9cad8",
   "metadata": {},
   "source": [
    "* A global statement will force a variable in a function to refer to the global variable. If you want to refer to a global variable in a function, you can use the global keyword to declare which variables are global."
   ]
  },
  {
   "cell_type": "markdown",
   "id": "e274cb20",
   "metadata": {},
   "source": [
    "10. What is the data type of None?"
   ]
  },
  {
   "cell_type": "markdown",
   "id": "db149dd4",
   "metadata": {},
   "source": [
    "* The data type of None is NoneType"
   ]
  },
  {
   "cell_type": "markdown",
   "id": "0e191f0e",
   "metadata": {},
   "source": [
    "11. What does the sentence import areallyourpetsnamederic do?"
   ]
  },
  {
   "cell_type": "markdown",
   "id": "eec3f825",
   "metadata": {},
   "source": [
    "* That import statement imports a module named areallyourpetsnamederic."
   ]
  },
  {
   "cell_type": "markdown",
   "id": "9438d370",
   "metadata": {},
   "source": [
    "12. If you had a bacon() feature in a spam module, what would you call it after importing spam?"
   ]
  },
  {
   "cell_type": "markdown",
   "id": "48926ada",
   "metadata": {},
   "source": [
    "* This function can be called with spam.bacon()"
   ]
  },
  {
   "cell_type": "markdown",
   "id": "63db0d89",
   "metadata": {},
   "source": [
    "13. What can you do to save a programme from crashing if it encounters an error?"
   ]
  },
  {
   "cell_type": "markdown",
   "id": "ea214e84",
   "metadata": {},
   "source": [
    "**use exception handeling concept**\n",
    "\n",
    "* Place the line of code that might cause an error in a try clause and use except block to handle the error."
   ]
  },
  {
   "cell_type": "markdown",
   "id": "5b164c9d",
   "metadata": {},
   "source": [
    "14. What is the purpose of the try clause? What is the purpose of the except clause?"
   ]
  },
  {
   "cell_type": "markdown",
   "id": "4135fb33",
   "metadata": {},
   "source": [
    "* The code that might cause an error that we have to write inside the 'try' block and if their is error occurs in the code then it goes to 'except' block to handel "
   ]
  },
  {
   "cell_type": "code",
   "execution_count": null,
   "id": "6f069d81",
   "metadata": {},
   "outputs": [],
   "source": []
  }
 ],
 "metadata": {
  "kernelspec": {
   "display_name": "Python 3 (ipykernel)",
   "language": "python",
   "name": "python3"
  },
  "language_info": {
   "codemirror_mode": {
    "name": "ipython",
    "version": 3
   },
   "file_extension": ".py",
   "mimetype": "text/x-python",
   "name": "python",
   "nbconvert_exporter": "python",
   "pygments_lexer": "ipython3",
   "version": "3.9.12"
  }
 },
 "nbformat": 4,
 "nbformat_minor": 5
}
